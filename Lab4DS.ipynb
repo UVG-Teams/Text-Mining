{
  "nbformat": 4,
  "nbformat_minor": 0,
  "metadata": {
    "colab": {
      "name": "Lab4DS.ipynb",
      "provenance": []
    },
    "kernelspec": {
      "name": "python3",
      "display_name": "Python 3"
    },
    "language_info": {
      "name": "python"
    }
  },
  "cells": [
    {
      "cell_type": "code",
      "metadata": {
        "id": "4m8duIm5DLPX",
        "colab": {
          "base_uri": "https://localhost:8080/",
          "height": 354
        },
        "outputId": "4da53be7-0856-4127-9cfd-2443522ddafc"
      },
      "source": [
        "# !pip install pandas\n",
        "import pandas as pd\n",
        "import numpy as np\n",
        "%matplotlib inline\n",
        "import matplotlib.pyplot as plt\n",
        "import regex as re\n",
        "import nltk\n",
        "from nltk.corpus import stopwords"
      ],
      "execution_count": null,
      "outputs": [
        {
          "output_type": "stream",
          "text": [
            "Defaulting to user installation because normal site-packages is not writeable\n",
            "Requirement already satisfied: pandas in ./Library/Python/3.7/lib/python/site-packages (0.25.1)\n",
            "Requirement already satisfied: python-dateutil>=2.6.1 in ./Library/Python/3.7/lib/python/site-packages (from pandas) (2.8.0)\n",
            "Requirement already satisfied: pytz>=2017.2 in /Library/Frameworks/Python.framework/Versions/3.7/lib/python3.7/site-packages (from pandas) (2019.1)\n",
            "Requirement already satisfied: numpy>=1.13.3 in ./Library/Python/3.7/lib/python/site-packages (from pandas) (1.19.5)\n",
            "Requirement already satisfied: six>=1.5 in ./Library/Python/3.7/lib/python/site-packages (from python-dateutil>=2.6.1->pandas) (1.15.0)\n"
          ],
          "name": "stdout"
        },
        {
          "output_type": "error",
          "ename": "ModuleNotFoundError",
          "evalue": "ignored",
          "traceback": [
            "\u001b[0;31m---------------------------------------------------------------------------\u001b[0m",
            "\u001b[0;31mModuleNotFoundError\u001b[0m                       Traceback (most recent call last)",
            "\u001b[0;32m/var/folders/pr/74mzrgzd55x0p441b4ngq4740000gr/T/ipykernel_59132/2113424910.py\u001b[0m in \u001b[0;36m<module>\u001b[0;34m\u001b[0m\n\u001b[1;32m      1\u001b[0m \u001b[0mget_ipython\u001b[0m\u001b[0;34m(\u001b[0m\u001b[0;34m)\u001b[0m\u001b[0;34m.\u001b[0m\u001b[0msystem\u001b[0m\u001b[0;34m(\u001b[0m\u001b[0;34m'pip install pandas'\u001b[0m\u001b[0;34m)\u001b[0m\u001b[0;34m\u001b[0m\u001b[0;34m\u001b[0m\u001b[0m\n\u001b[0;32m----> 2\u001b[0;31m \u001b[0;32mimport\u001b[0m \u001b[0mpandas\u001b[0m \u001b[0;32mas\u001b[0m \u001b[0mpd\u001b[0m\u001b[0;34m\u001b[0m\u001b[0;34m\u001b[0m\u001b[0m\n\u001b[0m\u001b[1;32m      3\u001b[0m \u001b[0;32mimport\u001b[0m \u001b[0mnumpy\u001b[0m \u001b[0;32mas\u001b[0m \u001b[0mnp\u001b[0m\u001b[0;34m\u001b[0m\u001b[0;34m\u001b[0m\u001b[0m\n\u001b[1;32m      4\u001b[0m \u001b[0mget_ipython\u001b[0m\u001b[0;34m(\u001b[0m\u001b[0;34m)\u001b[0m\u001b[0;34m.\u001b[0m\u001b[0mrun_line_magic\u001b[0m\u001b[0;34m(\u001b[0m\u001b[0;34m'matplotlib'\u001b[0m\u001b[0;34m,\u001b[0m \u001b[0;34m'inline'\u001b[0m\u001b[0;34m)\u001b[0m\u001b[0;34m\u001b[0m\u001b[0;34m\u001b[0m\u001b[0m\n\u001b[1;32m      5\u001b[0m \u001b[0;32mimport\u001b[0m \u001b[0mmatplotlib\u001b[0m\u001b[0;34m.\u001b[0m\u001b[0mpyplot\u001b[0m \u001b[0;32mas\u001b[0m \u001b[0mplt\u001b[0m\u001b[0;34m\u001b[0m\u001b[0;34m\u001b[0m\u001b[0m\n",
            "\u001b[0;31mModuleNotFoundError\u001b[0m: No module named 'pandas'"
          ]
        }
      ]
    },
    {
      "cell_type": "code",
      "metadata": {
        "id": "FVg761xTDRZu"
      },
      "source": [
        "from google.colab import drive\n",
        "drive.mount('/content/drive')"
      ],
      "execution_count": null,
      "outputs": []
    },
    {
      "cell_type": "code",
      "metadata": {
        "id": "ZpvOWeYkDUIC"
      },
      "source": [
        "path1 = '/content/drive/MyDrive/Lab4DS/en_US.blogs.txt'\n",
        "path2 = '/content/drive/MyDrive/Lab4DS/en_US.news.txt'\n",
        "path3 = '/content/drive/MyDrive/Lab4DS/en_US.twitter.txt'"
      ],
      "execution_count": null,
      "outputs": []
    },
    {
      "cell_type": "code",
      "metadata": {
        "id": "JSfixapZDtQL"
      },
      "source": [
        "file = open(path1, 'r')\n",
        "blogs = file.readlines()\n",
        "file.close()"
      ],
      "execution_count": null,
      "outputs": []
    },
    {
      "cell_type": "code",
      "metadata": {
        "id": "9jIxqd8fEkqc"
      },
      "source": [
        "file = open(path2, 'r')\n",
        "news = file.readlines()\n",
        "file.close()"
      ],
      "execution_count": null,
      "outputs": []
    },
    {
      "cell_type": "code",
      "metadata": {
        "id": "BhTXA5E7En9M"
      },
      "source": [
        "file = open(path3, 'r')\n",
        "tweets = file.readlines()\n",
        "file.close()"
      ],
      "execution_count": null,
      "outputs": []
    },
    {
      "cell_type": "code",
      "metadata": {
        "id": "DBh-J_OLE2uG"
      },
      "source": [
        "for i in range(len(blogs)):\n",
        "  blogs[i] = blogs[i].lower()\n",
        "\n",
        "for i in range(len(news)):\n",
        "  news[i] = news[i].lower()\n",
        "\n",
        "for i in range(len(tweets)):\n",
        "  tweets[i] = tweets[i].lower()"
      ],
      "execution_count": null,
      "outputs": []
    },
    {
      "cell_type": "code",
      "metadata": {
        "id": "OQ5Sit6UIw3d"
      },
      "source": [
        "for i in range(len(blogs)):\n",
        "  blogs[i] = re.sub(r'http\\S+', '', blogs[i])\n",
        "\n",
        "for i in range(len(news)):\n",
        "  news[i] = re.sub(r'http\\S+', '', news[i])\n",
        "\n",
        "for i in range(len(tweets)):\n",
        "  tweets[i] = re.sub(r'http\\S+', '', tweets[i])"
      ],
      "execution_count": null,
      "outputs": []
    },
    {
      "cell_type": "code",
      "metadata": {
        "id": "f2QfO5AaIOQY"
      },
      "source": [
        "for i in range(len(blogs)):\n",
        "  blogs[i] = re.sub(r\"[^a-zA-Z0-9]\",\" \", blogs[i])\n",
        "\n",
        "for i in range(len(news)):\n",
        "  news[i] = re.sub(r\"[^a-zA-Z0-9]\",\" \", news[i])\n",
        "\n",
        "for i in range(len(tweets)):\n",
        "  tweets[i] = re.sub(r\"[^a-zA-Z0-9]\",\" \", tweets[i])"
      ],
      "execution_count": null,
      "outputs": []
    },
    {
      "cell_type": "code",
      "metadata": {
        "id": "oQcQ4y-ZSbsD"
      },
      "source": [
        "nltk.download('stopwords')\n",
        "nltk.download('punkt')\n",
        "stopwords = set(stopwords.words('english'))"
      ],
      "execution_count": null,
      "outputs": []
    },
    {
      "cell_type": "code",
      "metadata": {
        "id": "plPfpz_4ZCJI"
      },
      "source": [
        "# GeeksforGeeks. (2021) Obtenido de https://www.geeksforgeeks.org/removing-stop-words-nltk-python/\n",
        "from nltk.tokenize import word_tokenize"
      ],
      "execution_count": null,
      "outputs": []
    },
    {
      "cell_type": "code",
      "metadata": {
        "id": "yLCbzorja8VQ"
      },
      "source": [
        "wordTokensBlogs = word_tokenize(str(blogs))\n",
        "wordTokensNews = word_tokenize(str(news))\n",
        "wordTokensTweets = word_tokenize(str(tweets))"
      ],
      "execution_count": null,
      "outputs": []
    },
    {
      "cell_type": "code",
      "metadata": {
        "id": "81B0vHfpg81C"
      },
      "source": [
        "filteredSentenceBlogs = []\n",
        "for w in wordTokensBlogs:\n",
        "    if w not in stopwords:\n",
        "        filteredSentenceBlogs.append(w)\n",
        "\n",
        "filteredSentenceNews = []\n",
        "for w in wordTokensNews:\n",
        "    if w not in stopwords:\n",
        "        filteredSentenceNews.append(w)\n",
        "\n",
        "filteredSentenceTweets = []\n",
        "for w in wordTokensTweets:\n",
        "    if w not in stopwords:\n",
        "        filteredSentenceTweets.append(w)"
      ],
      "execution_count": null,
      "outputs": []
    },
    {
      "cell_type": "code",
      "metadata": {
        "id": "3KA3pQUwlHJC"
      },
      "source": [
        "len(filteredSentenceBlogs), len(filteredSentenceNews), len(filteredSentenceTweets)"
      ],
      "execution_count": null,
      "outputs": []
    },
    {
      "cell_type": "code",
      "metadata": {
        "id": "5OYSq5u5mnOu"
      },
      "source": [
        "from collections import Counter"
      ],
      "execution_count": null,
      "outputs": []
    },
    {
      "cell_type": "code",
      "metadata": {
        "id": "_vkd69Kc16co"
      },
      "source": [
        "counterBlogs = Counter(filteredSentenceBlogs)\n",
        "counterNews = Counter(filteredSentenceNews)\n",
        "counterTweets = Counter(filteredSentenceTweets)"
      ],
      "execution_count": null,
      "outputs": []
    },
    {
      "cell_type": "code",
      "metadata": {
        "id": "pmC7ar7mDdPn"
      },
      "source": [
        "finalFilteredTexts = filteredSentenceBlogs + filteredSentenceNews + filteredSentenceTweets"
      ],
      "execution_count": null,
      "outputs": []
    },
    {
      "cell_type": "code",
      "metadata": {
        "id": "hlTtL-zr857s"
      },
      "source": [
        "df = pd.DataFrame({'PALABRAS' : finalFilteredTexts})"
      ],
      "execution_count": null,
      "outputs": []
    },
    {
      "cell_type": "code",
      "metadata": {
        "id": "H3eg_nEo9hci"
      },
      "source": [
        "df = pd.concat([df1, df2, df3])"
      ],
      "execution_count": null,
      "outputs": []
    },
    {
      "cell_type": "code",
      "metadata": {
        "id": "h25MhIOp-irz"
      },
      "source": [
        "df"
      ],
      "execution_count": null,
      "outputs": []
    },
    {
      "cell_type": "code",
      "metadata": {
        "id": "Jc011KZL89hd"
      },
      "source": [
        "counterBlogs.most_common()"
      ],
      "execution_count": null,
      "outputs": []
    },
    {
      "cell_type": "code",
      "metadata": {
        "id": "TTyCFxxp8-Qu"
      },
      "source": [
        "counterNews.most_common()"
      ],
      "execution_count": null,
      "outputs": []
    },
    {
      "cell_type": "code",
      "metadata": {
        "id": "UeOje4kr9Ax7"
      },
      "source": [
        "counterTweets.most_common()"
      ],
      "execution_count": null,
      "outputs": []
    }
  ]
}